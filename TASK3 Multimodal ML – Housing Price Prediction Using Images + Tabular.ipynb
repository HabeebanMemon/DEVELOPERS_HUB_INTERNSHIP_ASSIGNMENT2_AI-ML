{
 "cells": [
  {
   "cell_type": "code",
   "execution_count": 28,
   "id": "df01da9d-8e00-45e9-958e-a267cb8af617",
   "metadata": {},
   "outputs": [],
   "source": [
    "# Cell 2: Imports & config (update paths below)\n",
    "import os, random, json\n",
    "from pathlib import Path\n",
    "import numpy as np\n",
    "import pandas as pd\n",
    "import matplotlib.pyplot as plt\n",
    "import cv2\n",
    "from collections import Counter\n",
    "\n",
    "from sklearn.model_selection import train_test_split\n",
    "from sklearn.preprocessing import StandardScaler, OneHotEncoder\n",
    "from sklearn.metrics import mean_absolute_error, mean_squared_error\n",
    "\n",
    "import tensorflow as tf\n",
    "from tensorflow.keras import layers, Model, Input\n",
    "from tensorflow.keras.applications import MobileNetV2\n",
    "from tensorflow.keras.applications.mobilenet_v2 import preprocess_input as mobilenet_preprocess\n",
    "\n",
    "import joblib\n",
    "\n",
    "# ========== USER CONFIG ==========\n",
    "CSV_PATH = r\"C:/Users/zainu/Downloads/Housing.csv\"   # <- update\n",
    "IMAGE_ROOT = r\"C:/Users/zainu/Downloads/House_Room_Dataset\"       # <- update; contains subfolders for rooms\n",
    "ROOM_FOLDERS = [\"Bathroom\", \"Bedroom\", \"Dinning\", \"Kitchen\", \"Livingroom\"]\n",
    "IMG_SIZE = (128, 128)\n",
    "BATCH_SIZE = 16\n",
    "RANDOM_STATE = 42\n",
    "EPOCHS = 20\n",
    "# =================================\n"
   ]
  },
  {
   "cell_type": "code",
   "execution_count": 30,
   "id": "bf9cc516-0c03-42c6-a7fa-3fa25070196e",
   "metadata": {},
   "outputs": [
    {
     "name": "stdout",
     "output_type": "stream",
     "text": [
      "CSV shape: (545, 13)\n",
      "['price', 'area', 'bedrooms', 'bathrooms', 'stories', 'mainroad', 'guestroom', 'basement', 'hotwaterheating', 'airconditioning', 'parking', 'prefarea', 'furnishingstatus']\n"
     ]
    },
    {
     "data": {
      "text/html": [
       "<div>\n",
       "<style scoped>\n",
       "    .dataframe tbody tr th:only-of-type {\n",
       "        vertical-align: middle;\n",
       "    }\n",
       "\n",
       "    .dataframe tbody tr th {\n",
       "        vertical-align: top;\n",
       "    }\n",
       "\n",
       "    .dataframe thead th {\n",
       "        text-align: right;\n",
       "    }\n",
       "</style>\n",
       "<table border=\"1\" class=\"dataframe\">\n",
       "  <thead>\n",
       "    <tr style=\"text-align: right;\">\n",
       "      <th></th>\n",
       "      <th>price</th>\n",
       "      <th>area</th>\n",
       "      <th>bedrooms</th>\n",
       "      <th>bathrooms</th>\n",
       "      <th>stories</th>\n",
       "      <th>mainroad</th>\n",
       "      <th>guestroom</th>\n",
       "      <th>basement</th>\n",
       "      <th>hotwaterheating</th>\n",
       "      <th>airconditioning</th>\n",
       "      <th>parking</th>\n",
       "      <th>prefarea</th>\n",
       "      <th>furnishingstatus</th>\n",
       "    </tr>\n",
       "  </thead>\n",
       "  <tbody>\n",
       "    <tr>\n",
       "      <th>0</th>\n",
       "      <td>13300000</td>\n",
       "      <td>7420</td>\n",
       "      <td>4</td>\n",
       "      <td>2</td>\n",
       "      <td>3</td>\n",
       "      <td>yes</td>\n",
       "      <td>no</td>\n",
       "      <td>no</td>\n",
       "      <td>no</td>\n",
       "      <td>yes</td>\n",
       "      <td>2</td>\n",
       "      <td>yes</td>\n",
       "      <td>furnished</td>\n",
       "    </tr>\n",
       "    <tr>\n",
       "      <th>1</th>\n",
       "      <td>12250000</td>\n",
       "      <td>8960</td>\n",
       "      <td>4</td>\n",
       "      <td>4</td>\n",
       "      <td>4</td>\n",
       "      <td>yes</td>\n",
       "      <td>no</td>\n",
       "      <td>no</td>\n",
       "      <td>no</td>\n",
       "      <td>yes</td>\n",
       "      <td>3</td>\n",
       "      <td>no</td>\n",
       "      <td>furnished</td>\n",
       "    </tr>\n",
       "    <tr>\n",
       "      <th>2</th>\n",
       "      <td>12250000</td>\n",
       "      <td>9960</td>\n",
       "      <td>3</td>\n",
       "      <td>2</td>\n",
       "      <td>2</td>\n",
       "      <td>yes</td>\n",
       "      <td>no</td>\n",
       "      <td>yes</td>\n",
       "      <td>no</td>\n",
       "      <td>no</td>\n",
       "      <td>2</td>\n",
       "      <td>yes</td>\n",
       "      <td>semi-furnished</td>\n",
       "    </tr>\n",
       "    <tr>\n",
       "      <th>3</th>\n",
       "      <td>12215000</td>\n",
       "      <td>7500</td>\n",
       "      <td>4</td>\n",
       "      <td>2</td>\n",
       "      <td>2</td>\n",
       "      <td>yes</td>\n",
       "      <td>no</td>\n",
       "      <td>yes</td>\n",
       "      <td>no</td>\n",
       "      <td>yes</td>\n",
       "      <td>3</td>\n",
       "      <td>yes</td>\n",
       "      <td>furnished</td>\n",
       "    </tr>\n",
       "    <tr>\n",
       "      <th>4</th>\n",
       "      <td>11410000</td>\n",
       "      <td>7420</td>\n",
       "      <td>4</td>\n",
       "      <td>1</td>\n",
       "      <td>2</td>\n",
       "      <td>yes</td>\n",
       "      <td>yes</td>\n",
       "      <td>yes</td>\n",
       "      <td>no</td>\n",
       "      <td>yes</td>\n",
       "      <td>2</td>\n",
       "      <td>no</td>\n",
       "      <td>furnished</td>\n",
       "    </tr>\n",
       "  </tbody>\n",
       "</table>\n",
       "</div>"
      ],
      "text/plain": [
       "      price  area  bedrooms  bathrooms  stories mainroad guestroom basement  \\\n",
       "0  13300000  7420         4          2        3      yes        no       no   \n",
       "1  12250000  8960         4          4        4      yes        no       no   \n",
       "2  12250000  9960         3          2        2      yes        no      yes   \n",
       "3  12215000  7500         4          2        2      yes        no      yes   \n",
       "4  11410000  7420         4          1        2      yes       yes      yes   \n",
       "\n",
       "  hotwaterheating airconditioning  parking prefarea furnishingstatus  \n",
       "0              no             yes        2      yes        furnished  \n",
       "1              no             yes        3       no        furnished  \n",
       "2              no              no        2      yes   semi-furnished  \n",
       "3              no             yes        3      yes        furnished  \n",
       "4              no             yes        2       no        furnished  "
      ]
     },
     "execution_count": 30,
     "metadata": {},
     "output_type": "execute_result"
    }
   ],
   "source": [
    "# Cell 3: Load CSV and show basic info\n",
    "df = pd.read_csv(CSV_PATH)\n",
    "print(\"CSV shape:\", df.shape)\n",
    "print(df.columns.tolist())\n",
    "df.head()\n"
   ]
  },
  {
   "cell_type": "code",
   "execution_count": 32,
   "id": "6a7114b5-0e52-47e5-850e-ea54dfd5739d",
   "metadata": {},
   "outputs": [
    {
     "name": "stdout",
     "output_type": "stream",
     "text": [
      "No ID column found — created 'house_id' from index.\n",
      "Sample house_id values: ['0', '1', '2', '3', '4']\n"
     ]
    }
   ],
   "source": [
    "# Cell 4: Ensure house_id exists (use 'id' or create from index)\n",
    "# Try common id columns, else create a 'house_id' from index\n",
    "possible_id_cols = [c for c in df.columns if c.lower() in (\"id\", \"houseid\", \"house_id\", \"house id\")]\n",
    "if possible_id_cols:\n",
    "    id_col = possible_id_cols[0]\n",
    "    df[\"house_id\"] = df[id_col].astype(str)\n",
    "    print(\"Using existing ID column:\", id_col)\n",
    "else:\n",
    "    df = df.reset_index().rename(columns={\"index\":\"house_id\"})\n",
    "    df[\"house_id\"] = df[\"house_id\"].astype(str)\n",
    "    print(\"No ID column found — created 'house_id' from index.\")\n",
    "\n",
    "print(\"Sample house_id values:\", df[\"house_id\"].head().tolist())\n"
   ]
  },
  {
   "cell_type": "code",
   "execution_count": 34,
   "id": "29170861-a337-4b73-aed4-e7fad2115683",
   "metadata": {},
   "outputs": [
    {
     "name": "stdout",
     "output_type": "stream",
     "text": [
      "Numeric columns used: ['area', 'bedrooms', 'bathrooms', 'stories', 'parking']\n",
      "Categorical columns used: ['mainroad', 'guestroom', 'basement', 'hotwaterheating', 'airconditioning', 'prefarea', 'furnishingstatus']\n",
      "Number of samples: 545\n"
     ]
    }
   ],
   "source": [
    "# Cell 5: Build/inspect candidate tabular features (use the columns you specified)\n",
    "# Provided columns: price, area, bedrooms, bathrooms, stories, mainroad, guestroom, basement,\n",
    "#                  hotwaterheating, airconditioning, parking, prefarea, furnishingstatus\n",
    "\n",
    "# Numeric features we will use:\n",
    "num_cols = [c for c in [\"area\",\"bedrooms\",\"bathrooms\",\"stories\",\"parking\"] if c in df.columns]\n",
    "# Categorical features to one-hot:\n",
    "cat_cols = [c for c in [\"mainroad\",\"guestroom\",\"basement\",\"hotwaterheating\",\"airconditioning\",\"prefarea\",\"furnishingstatus\"] if c in df.columns]\n",
    "\n",
    "print(\"Numeric columns used:\", num_cols)\n",
    "print(\"Categorical columns used:\", cat_cols)\n",
    "\n",
    "# Fill, convert numeric\n",
    "for c in num_cols:\n",
    "    df[c] = pd.to_numeric(df[c], errors=\"coerce\").fillna(df[c].median())\n",
    "\n",
    "# Fill categorical\n",
    "for c in cat_cols:\n",
    "    df[c] = df[c].fillna(\"missing\").astype(str)\n",
    "\n",
    "# Target\n",
    "if \"price\" not in df.columns:\n",
    "    raise ValueError(\"Expected 'price' column in CSV\")\n",
    "y = df[\"price\"].astype(float).values\n",
    "print(\"Number of samples:\", len(df))\n"
   ]
  },
  {
   "cell_type": "code",
   "execution_count": 42,
   "id": "297f14eb-9002-49d9-918f-c2ebfce175d9",
   "metadata": {},
   "outputs": [
    {
     "name": "stdout",
     "output_type": "stream",
     "text": [
      "Tabular data shape: (545, 20)\n"
     ]
    }
   ],
   "source": [
    "# Cell 6: One-hot encode categorical cols and scale numeric cols\n",
    "from sklearn.preprocessing import OneHotEncoder, StandardScaler\n",
    "\n",
    "# One-hot encode categorical features (if any)\n",
    "if cat_cols:\n",
    "    ohe = OneHotEncoder(sparse_output=False, handle_unknown=\"ignore\")  # ✅ updated\n",
    "    cat_matrix = ohe.fit_transform(df[cat_cols])\n",
    "    cat_feature_names = list(ohe.get_feature_names_out(cat_cols))\n",
    "else:\n",
    "    cat_matrix = np.empty((len(df), 0))  # Empty if no categorical features\n",
    "    cat_feature_names = []\n",
    "\n",
    "# Scale numeric features\n",
    "scaler = StandardScaler()\n",
    "num_matrix = scaler.fit_transform(df[num_cols])\n",
    "\n",
    "# Combine numeric + categorical\n",
    "X_tabular = np.hstack([num_matrix, cat_matrix])\n",
    "y = df[\"price\"].values\n",
    "\n",
    "print(\"Tabular data shape:\", X_tabular.shape)\n"
   ]
  },
  {
   "cell_type": "code",
   "execution_count": 44,
   "id": "7cc6077e-e2f7-44ff-8d95-1df5325d8b0a",
   "metadata": {},
   "outputs": [
    {
     "name": "stdout",
     "output_type": "stream",
     "text": [
      "Bathroom: 606 images\n",
      "Bedroom: 1248 images\n",
      "Dinning: 1158 images\n",
      "Kitchen: 965 images\n",
      "Livingroom: 1273 images\n"
     ]
    }
   ],
   "source": [
    "# Cell 7: Build image index per room\n",
    "# List files in each room folder\n",
    "image_index = {}\n",
    "for room in ROOM_FOLDERS:\n",
    "    folder = Path(IMAGE_ROOT) / room\n",
    "    files = []\n",
    "    if folder.exists():\n",
    "        for ext in (\"*.jpg\",\"*.jpeg\",\"*.png\",\"*.bmp\"):\n",
    "            files.extend(sorted(map(str, folder.glob(ext))))\n",
    "    image_index[room] = files\n",
    "    print(f\"{room}: {len(files)} images\")\n"
   ]
  },
  {
   "cell_type": "code",
   "execution_count": 46,
   "id": "a936452b-3d0b-4e65-a023-1e02e825ce88",
   "metadata": {},
   "outputs": [
    {
     "name": "stdout",
     "output_type": "stream",
     "text": [
      "Houses matched by filename: 545 / 545\n"
     ]
    }
   ],
   "source": [
    "# Cell 8: Map images to house_id by filename (best-effort)\n",
    "house_ids = df[\"house_id\"].astype(str).tolist()\n",
    "\n",
    "def find_matches_for_house(house_id, files):\n",
    "    matches = []\n",
    "    hid = house_id.lower()\n",
    "    for p in files:\n",
    "        fname = os.path.basename(p).lower()\n",
    "        # crude but practical matching: if house_id appears in filename\n",
    "        if hid in fname:\n",
    "            matches.append(p)\n",
    "    return matches\n",
    "\n",
    "# Collect matches per house per room\n",
    "house_images = {hid: {room: [] for room in ROOM_FOLDERS} for hid in house_ids}\n",
    "for hid in house_ids:\n",
    "    for room in ROOM_FOLDERS:\n",
    "        house_images[hid][room] = find_matches_for_house(hid, image_index.get(room, []))\n",
    "\n",
    "# Count houses that got at least one image\n",
    "matched_houses = sum(1 for hid in house_ids if any(len(imgs)>0 for imgs in house_images[hid].values()))\n",
    "print(f\"Houses matched by filename: {matched_houses} / {len(house_ids)}\")\n"
   ]
  },
  {
   "cell_type": "code",
   "execution_count": 48,
   "id": "b9d5e4a0-d499-44e8-a965-a6da649cfa39",
   "metadata": {},
   "outputs": [
    {
     "name": "stdout",
     "output_type": "stream",
     "text": [
      "Using filename matches where available (no fallback needed).\n"
     ]
    }
   ],
   "source": [
    "# Cell 9: Fallback: if too few matches, assign images by sampling (round-robin)\n",
    "min_required = max(1, int(0.3 * len(house_ids)))  # require at least 30% matched houses else fallback\n",
    "if matched_houses < min_required:\n",
    "    print(\"Too few filename matches -> fallback sampling assignment to houses.\")\n",
    "    for room in ROOM_FOLDERS:\n",
    "        files = image_index.get(room, [])\n",
    "        if not files:\n",
    "            continue\n",
    "        random.shuffle(files)\n",
    "        k = len(files)\n",
    "        for i, hid in enumerate(house_ids):\n",
    "            # assign a single image cyclically\n",
    "            house_images[hid][room] = [files[i % k]]\n",
    "else:\n",
    "    print(\"Using filename matches where available (no fallback needed).\")\n"
   ]
  },
  {
   "cell_type": "code",
   "execution_count": 50,
   "id": "f3600320-cabb-4075-ab1a-0ed5219a53ed",
   "metadata": {},
   "outputs": [
    {
     "name": "stdout",
     "output_type": "stream",
     "text": [
      "Downloading data from https://storage.googleapis.com/tensorflow/keras-applications/mobilenet_v2/mobilenet_v2_weights_tf_dim_ordering_tf_kernels_1.0_128_no_top.h5\n",
      "9406464/9406464 [==============================] - 12s 1us/step\n",
      "Image feature dimension: 1280\n"
     ]
    }
   ],
   "source": [
    "# Cell 10: Build MobileNetV2 image feature extractor (frozen)\n",
    "backbone = MobileNetV2(weights=\"imagenet\", include_top=False, input_shape=(IMG_SIZE[0], IMG_SIZE[1], 3))\n",
    "backbone.trainable = False\n",
    "\n",
    "img_input = Input(shape=(IMG_SIZE[0], IMG_SIZE[1], 3))\n",
    "y = mobilenet_preprocess(img_input)\n",
    "y = backbone(y, training=False)\n",
    "y = layers.GlobalAveragePooling2D()(y)\n",
    "img_feature_model = Model(img_input, y)\n",
    "img_feature_dim = img_feature_model.output_shape[1]\n",
    "print(\"Image feature dimension:\", img_feature_dim)\n"
   ]
  },
  {
   "cell_type": "code",
   "execution_count": 52,
   "id": "90a010ec-eeed-405d-80c8-117705b57da1",
   "metadata": {},
   "outputs": [],
   "source": [
    "# Cell 11: Function to load image and preprocess\n",
    "def load_image(path, target=IMG_SIZE):\n",
    "    try:\n",
    "        img = cv2.imread(path)\n",
    "        if img is None:\n",
    "            raise ValueError(\"cv2.imread returned None\")\n",
    "        img = cv2.cvtColor(img, cv2.COLOR_BGR2RGB)\n",
    "        img = cv2.resize(img, target)\n",
    "        img = img.astype(\"float32\")\n",
    "        return img\n",
    "    except Exception:\n",
    "        # fallback zero image\n",
    "        return np.zeros((target[0], target[1], 3), dtype=\"float32\")\n"
   ]
  },
  {
   "cell_type": "code",
   "execution_count": 54,
   "id": "4247048a-5d5c-42e5-ae00-6d78ee08e884",
   "metadata": {
    "scrolled": true
   },
   "outputs": [
    {
     "name": "stdout",
     "output_type": "stream",
     "text": [
      "House image feature matrix shape: (545, 6400)\n"
     ]
    }
   ],
   "source": [
    "# Cell 12: Compute image features per house by averaging room images' features\n",
    "house_img_features = []\n",
    "for hid in house_ids:\n",
    "    room_feats = []\n",
    "    for room in ROOM_FOLDERS:\n",
    "        paths = house_images[hid].get(room, [])\n",
    "        if not paths:\n",
    "            # no image for that room -> zeros\n",
    "            room_feats.append(np.zeros(img_feature_dim, dtype=\"float32\"))\n",
    "            continue\n",
    "        # load all images for that room (or limit to 5 to save memory)\n",
    "        imgs = [load_image(p) for p in paths[:5]]\n",
    "        imgs_arr = np.array(imgs)\n",
    "        feats = img_feature_model.predict(imgs_arr, verbose=0, batch_size=8)\n",
    "        avg = np.mean(feats, axis=0)\n",
    "        room_feats.append(avg)\n",
    "    # concatenate room-level vectors into single vector\n",
    "    concat = np.concatenate(room_feats, axis=0)\n",
    "    house_img_features.append(concat)\n",
    "\n",
    "house_img_features = np.vstack(house_img_features)\n",
    "print(\"House image feature matrix shape:\", house_img_features.shape)\n"
   ]
  },
  {
   "cell_type": "code",
   "execution_count": 72,
   "id": "49694213-c36e-4618-91db-e782358b9835",
   "metadata": {},
   "outputs": [
    {
     "name": "stdout",
     "output_type": "stream",
     "text": [
      "<class 'numpy.ndarray'>\n",
      "(545, 6400)\n"
     ]
    }
   ],
   "source": [
    "print(type(house_img_features))   # should be <class 'numpy.ndarray'>\n",
    "print(house_img_features.shape)   # should match number of houses\n"
   ]
  },
  {
   "cell_type": "code",
   "execution_count": 98,
   "id": "07c81ebc-6611-4aa7-8b71-b78b2438584a",
   "metadata": {},
   "outputs": [
    {
     "name": "stdout",
     "output_type": "stream",
     "text": [
      "<class 'numpy.ndarray'> (545,)\n"
     ]
    }
   ],
   "source": [
    "# Reload target values from the CSV\n",
    "y = df['price'].astype(np.float32).values\n",
    "print(type(y), y.shape)  # should be <class 'numpy.ndarray'>\n"
   ]
  },
  {
   "cell_type": "code",
   "execution_count": 100,
   "id": "dba284ce-c871-42b5-9a73-255135b6d556",
   "metadata": {},
   "outputs": [],
   "source": [
    "# Normalize target prices for better training stability\n",
    "y_scaled = y / 1e5  # scales prices to hundreds of thousands\n"
   ]
  },
  {
   "cell_type": "code",
   "execution_count": 106,
   "id": "97854b49-dce1-447b-a7f4-49a5b56f3bc2",
   "metadata": {},
   "outputs": [],
   "source": [
    "X_tab_train, X_tab_test, X_img_train, X_img_test, y_train, y_test = train_test_split(\n",
    "    X_tab_final, X_img_final, y_scaled, test_size=0.2, random_state=RANDOM_STATE\n",
    ")\n"
   ]
  },
  {
   "cell_type": "code",
   "execution_count": 108,
   "id": "1b93e81c-0b37-4649-a840-25dc5d698e41",
   "metadata": {},
   "outputs": [
    {
     "name": "stdout",
     "output_type": "stream",
     "text": [
      "<class 'numpy.ndarray'> (545, 5)\n",
      "<class 'numpy.ndarray'> (545, 6400)\n",
      "<class 'numpy.ndarray'> (545,)\n"
     ]
    }
   ],
   "source": [
    "print(type(X_tab_final), X_tab_final.shape)\n",
    "print(type(X_img_final), X_img_final.shape)\n",
    "print(type(y_final), y_final.shape)\n"
   ]
  },
  {
   "cell_type": "code",
   "execution_count": 110,
   "id": "87554aa9-9a43-4d31-a13b-eba38e9f14e7",
   "metadata": {},
   "outputs": [
    {
     "name": "stdout",
     "output_type": "stream",
     "text": [
      "Model: \"model_2\"\n",
      "__________________________________________________________________________________________________\n",
      " Layer (type)                   Output Shape         Param #     Connected to                     \n",
      "==================================================================================================\n",
      " tab_input (InputLayer)         [(None, 5)]          0           []                               \n",
      "                                                                                                  \n",
      " img_input (InputLayer)         [(None, 6400)]       0           []                               \n",
      "                                                                                                  \n",
      " dense_7 (Dense)                (None, 128)          768         ['tab_input[0][0]']              \n",
      "                                                                                                  \n",
      " dense_9 (Dense)                (None, 256)          1638656     ['img_input[0][0]']              \n",
      "                                                                                                  \n",
      " dropout_3 (Dropout)            (None, 128)          0           ['dense_7[0][0]']                \n",
      "                                                                                                  \n",
      " dropout_4 (Dropout)            (None, 256)          0           ['dense_9[0][0]']                \n",
      "                                                                                                  \n",
      " dense_8 (Dense)                (None, 64)           8256        ['dropout_3[0][0]']              \n",
      "                                                                                                  \n",
      " dense_10 (Dense)               (None, 64)           16448       ['dropout_4[0][0]']              \n",
      "                                                                                                  \n",
      " concatenate_1 (Concatenate)    (None, 128)          0           ['dense_8[0][0]',                \n",
      "                                                                  'dense_10[0][0]']               \n",
      "                                                                                                  \n",
      " dense_11 (Dense)               (None, 128)          16512       ['concatenate_1[0][0]']          \n",
      "                                                                                                  \n",
      " dropout_5 (Dropout)            (None, 128)          0           ['dense_11[0][0]']               \n",
      "                                                                                                  \n",
      " dense_12 (Dense)               (None, 64)           8256        ['dropout_5[0][0]']              \n",
      "                                                                                                  \n",
      " dense_13 (Dense)               (None, 1)            65          ['dense_12[0][0]']               \n",
      "                                                                                                  \n",
      "==================================================================================================\n",
      "Total params: 1,688,961\n",
      "Trainable params: 1,688,961\n",
      "Non-trainable params: 0\n",
      "__________________________________________________________________________________________________\n"
     ]
    }
   ],
   "source": [
    "# Cell 14: Build multimodal regression model (tabular MLP + image-features MLP)\n",
    "tab_input = Input(shape=(X_tab_final.shape[1],), name=\"tab_input\")\n",
    "img_input = Input(shape=(X_img_final.shape[1],), name=\"img_input\")\n",
    "\n",
    "# Tabular branch\n",
    "t = layers.Dense(128, activation=\"relu\")(tab_input)\n",
    "t = layers.Dropout(0.2)(t)\n",
    "t = layers.Dense(64, activation=\"relu\")(t)\n",
    "\n",
    "# Image-features branch\n",
    "i = layers.Dense(256, activation=\"relu\")(img_input)\n",
    "i = layers.Dropout(0.2)(i)\n",
    "i = layers.Dense(64, activation=\"relu\")(i)\n",
    "\n",
    "# Combine\n",
    "combined = layers.Concatenate()([t, i])\n",
    "z = layers.Dense(128, activation=\"relu\")(combined)\n",
    "z = layers.Dropout(0.2)(z)\n",
    "z = layers.Dense(64, activation=\"relu\")(z)\n",
    "out = layers.Dense(1, activation=\"linear\")(z)\n",
    "\n",
    "model = Model(inputs=[tab_input, img_input], outputs=out)\n",
    "model.compile(optimizer=tf.keras.optimizers.Adam(learning_rate=1e-3), loss=\"mse\", metrics=[\"mae\"])\n",
    "model.summary()\n"
   ]
  },
  {
   "cell_type": "code",
   "execution_count": 116,
   "id": "facbb94f-e442-4891-a051-37fbee856f27",
   "metadata": {},
   "outputs": [
    {
     "name": "stdout",
     "output_type": "stream",
     "text": [
      "Epoch 1/100\n",
      "25/25 - 0s - loss: 37.1222 - mae: 4.4577 - val_loss: 191.0209 - val_mae: 11.7170 - 221ms/epoch - 9ms/step\n",
      "Epoch 2/100\n",
      "25/25 - 0s - loss: 43.0140 - mae: 4.9344 - val_loss: 178.9670 - val_mae: 11.4062 - 177ms/epoch - 7ms/step\n",
      "Epoch 3/100\n",
      "25/25 - 0s - loss: 42.2272 - mae: 4.7747 - val_loss: 189.5114 - val_mae: 11.5900 - 174ms/epoch - 7ms/step\n",
      "Epoch 4/100\n",
      "25/25 - 0s - loss: 47.7855 - mae: 5.3115 - val_loss: 169.6122 - val_mae: 10.9885 - 173ms/epoch - 7ms/step\n",
      "Epoch 5/100\n",
      "25/25 - 0s - loss: 35.4025 - mae: 4.6088 - val_loss: 206.9808 - val_mae: 12.1607 - 180ms/epoch - 7ms/step\n",
      "Epoch 6/100\n",
      "25/25 - 0s - loss: 53.4762 - mae: 5.6838 - val_loss: 191.9505 - val_mae: 11.4088 - 176ms/epoch - 7ms/step\n",
      "Epoch 7/100\n",
      "25/25 - 0s - loss: 56.7963 - mae: 5.6081 - val_loss: 187.6874 - val_mae: 11.6932 - 176ms/epoch - 7ms/step\n",
      "Epoch 8/100\n",
      "25/25 - 0s - loss: 34.2880 - mae: 4.5384 - val_loss: 195.8013 - val_mae: 11.6485 - 173ms/epoch - 7ms/step\n",
      "Epoch 9/100\n",
      "25/25 - 0s - loss: 37.4679 - mae: 4.4068 - val_loss: 191.4822 - val_mae: 11.7576 - 172ms/epoch - 7ms/step\n",
      "Epoch 10/100\n",
      "25/25 - 0s - loss: 35.7117 - mae: 4.5514 - val_loss: 197.5856 - val_mae: 11.9382 - 172ms/epoch - 7ms/step\n",
      "Epoch 11/100\n",
      "25/25 - 0s - loss: 27.1047 - mae: 3.9485 - val_loss: 200.6165 - val_mae: 12.0680 - 172ms/epoch - 7ms/step\n",
      "Epoch 12/100\n",
      "25/25 - 0s - loss: 29.9544 - mae: 4.1095 - val_loss: 198.2862 - val_mae: 11.9637 - 173ms/epoch - 7ms/step\n",
      "Epoch 13/100\n",
      "25/25 - 0s - loss: 38.0473 - mae: 4.7643 - val_loss: 193.3054 - val_mae: 11.5835 - 185ms/epoch - 7ms/step\n",
      "Epoch 14/100\n",
      "25/25 - 0s - loss: 36.5637 - mae: 4.7215 - val_loss: 211.9855 - val_mae: 12.2804 - 175ms/epoch - 7ms/step\n",
      "Epoch 15/100\n",
      "25/25 - 0s - loss: 31.5351 - mae: 4.2673 - val_loss: 207.4161 - val_mae: 12.2017 - 174ms/epoch - 7ms/step\n",
      "Epoch 16/100\n",
      "25/25 - 0s - loss: 34.8289 - mae: 4.4404 - val_loss: 197.5264 - val_mae: 11.9127 - 174ms/epoch - 7ms/step\n",
      "Epoch 17/100\n",
      "25/25 - 0s - loss: 36.6846 - mae: 4.7653 - val_loss: 209.8625 - val_mae: 12.2503 - 173ms/epoch - 7ms/step\n",
      "Epoch 18/100\n",
      "25/25 - 0s - loss: 29.4785 - mae: 4.2680 - val_loss: 197.2121 - val_mae: 11.8420 - 176ms/epoch - 7ms/step\n",
      "Epoch 19/100\n",
      "25/25 - 0s - loss: 24.3828 - mae: 3.7031 - val_loss: 204.1934 - val_mae: 12.0079 - 175ms/epoch - 7ms/step\n",
      "Epoch 20/100\n",
      "25/25 - 0s - loss: 19.7252 - mae: 3.4359 - val_loss: 216.8746 - val_mae: 12.4186 - 175ms/epoch - 7ms/step\n",
      "Epoch 21/100\n",
      "25/25 - 0s - loss: 28.1631 - mae: 3.9526 - val_loss: 222.7423 - val_mae: 12.6153 - 171ms/epoch - 7ms/step\n",
      "Epoch 22/100\n",
      "25/25 - 0s - loss: 25.2517 - mae: 3.7213 - val_loss: 218.8964 - val_mae: 12.6303 - 176ms/epoch - 7ms/step\n",
      "Epoch 23/100\n",
      "25/25 - 0s - loss: 23.5135 - mae: 3.7146 - val_loss: 218.2893 - val_mae: 12.5887 - 174ms/epoch - 7ms/step\n",
      "Epoch 24/100\n",
      "25/25 - 0s - loss: 24.5160 - mae: 3.8172 - val_loss: 214.8649 - val_mae: 12.4255 - 183ms/epoch - 7ms/step\n",
      "Epoch 25/100\n",
      "25/25 - 0s - loss: 20.7189 - mae: 3.4004 - val_loss: 218.2971 - val_mae: 12.5670 - 183ms/epoch - 7ms/step\n",
      "Epoch 26/100\n",
      "25/25 - 0s - loss: 21.0913 - mae: 3.4320 - val_loss: 223.1654 - val_mae: 12.5588 - 172ms/epoch - 7ms/step\n",
      "Epoch 27/100\n",
      "25/25 - 0s - loss: 19.0424 - mae: 3.3450 - val_loss: 228.9594 - val_mae: 12.7726 - 185ms/epoch - 7ms/step\n",
      "Epoch 28/100\n",
      "25/25 - 0s - loss: 24.1085 - mae: 3.8333 - val_loss: 226.2908 - val_mae: 12.5431 - 173ms/epoch - 7ms/step\n",
      "Epoch 29/100\n",
      "25/25 - 0s - loss: 23.0060 - mae: 3.7085 - val_loss: 252.8881 - val_mae: 13.3145 - 207ms/epoch - 8ms/step\n",
      "Epoch 30/100\n",
      "25/25 - 0s - loss: 29.3730 - mae: 4.0163 - val_loss: 223.6836 - val_mae: 12.5407 - 178ms/epoch - 7ms/step\n",
      "Epoch 31/100\n",
      "25/25 - 0s - loss: 22.3830 - mae: 3.7697 - val_loss: 212.3026 - val_mae: 12.0524 - 184ms/epoch - 7ms/step\n",
      "Epoch 32/100\n",
      "25/25 - 0s - loss: 22.7709 - mae: 3.5655 - val_loss: 225.1240 - val_mae: 12.4715 - 203ms/epoch - 8ms/step\n",
      "Epoch 33/100\n",
      "25/25 - 0s - loss: 25.7605 - mae: 3.9059 - val_loss: 234.5259 - val_mae: 12.7828 - 181ms/epoch - 7ms/step\n",
      "Epoch 34/100\n",
      "25/25 - 0s - loss: 34.0765 - mae: 4.4685 - val_loss: 264.1169 - val_mae: 13.5607 - 170ms/epoch - 7ms/step\n",
      "Epoch 35/100\n",
      "25/25 - 0s - loss: 26.3941 - mae: 4.1567 - val_loss: 228.1444 - val_mae: 12.6462 - 192ms/epoch - 8ms/step\n",
      "Epoch 36/100\n",
      "25/25 - 0s - loss: 23.0401 - mae: 3.7173 - val_loss: 221.5659 - val_mae: 12.4282 - 192ms/epoch - 8ms/step\n",
      "Epoch 37/100\n",
      "25/25 - 0s - loss: 20.8967 - mae: 3.5527 - val_loss: 253.6916 - val_mae: 13.4128 - 180ms/epoch - 7ms/step\n",
      "Epoch 38/100\n",
      "25/25 - 0s - loss: 24.0389 - mae: 3.7961 - val_loss: 212.3943 - val_mae: 12.2641 - 182ms/epoch - 7ms/step\n",
      "Epoch 39/100\n",
      "25/25 - 0s - loss: 25.0513 - mae: 3.7987 - val_loss: 254.5185 - val_mae: 13.0385 - 180ms/epoch - 7ms/step\n",
      "Epoch 40/100\n",
      "25/25 - 0s - loss: 24.3592 - mae: 3.7596 - val_loss: 251.6203 - val_mae: 13.1616 - 177ms/epoch - 7ms/step\n",
      "Epoch 41/100\n",
      "25/25 - 0s - loss: 22.9213 - mae: 3.7027 - val_loss: 219.6791 - val_mae: 12.2641 - 182ms/epoch - 7ms/step\n",
      "Epoch 42/100\n",
      "25/25 - 0s - loss: 26.4777 - mae: 4.0250 - val_loss: 223.4221 - val_mae: 12.4724 - 185ms/epoch - 7ms/step\n",
      "Epoch 43/100\n",
      "25/25 - 0s - loss: 29.1615 - mae: 4.1681 - val_loss: 246.6247 - val_mae: 12.9779 - 178ms/epoch - 7ms/step\n",
      "Epoch 44/100\n",
      "25/25 - 0s - loss: 25.3127 - mae: 3.9015 - val_loss: 241.4815 - val_mae: 12.9139 - 183ms/epoch - 7ms/step\n",
      "Epoch 45/100\n",
      "25/25 - 0s - loss: 24.1444 - mae: 3.7950 - val_loss: 231.9909 - val_mae: 12.6471 - 180ms/epoch - 7ms/step\n",
      "Epoch 46/100\n",
      "25/25 - 0s - loss: 18.7812 - mae: 3.3273 - val_loss: 234.6048 - val_mae: 12.7664 - 392ms/epoch - 16ms/step\n",
      "Epoch 47/100\n",
      "25/25 - 0s - loss: 24.1811 - mae: 3.6918 - val_loss: 235.2809 - val_mae: 12.6106 - 185ms/epoch - 7ms/step\n",
      "Epoch 48/100\n",
      "25/25 - 0s - loss: 28.5114 - mae: 3.9679 - val_loss: 231.9919 - val_mae: 12.4404 - 210ms/epoch - 8ms/step\n",
      "Epoch 49/100\n",
      "25/25 - 0s - loss: 15.2686 - mae: 3.0065 - val_loss: 223.9944 - val_mae: 12.4672 - 190ms/epoch - 8ms/step\n",
      "Epoch 50/100\n",
      "25/25 - 0s - loss: 20.1935 - mae: 3.4834 - val_loss: 249.1865 - val_mae: 13.0172 - 172ms/epoch - 7ms/step\n",
      "Epoch 51/100\n",
      "25/25 - 0s - loss: 18.4597 - mae: 3.3087 - val_loss: 226.0413 - val_mae: 12.5300 - 201ms/epoch - 8ms/step\n",
      "Epoch 52/100\n",
      "25/25 - 0s - loss: 14.3972 - mae: 3.0356 - val_loss: 235.7668 - val_mae: 12.6785 - 208ms/epoch - 8ms/step\n",
      "Epoch 53/100\n",
      "25/25 - 0s - loss: 15.0590 - mae: 3.0228 - val_loss: 235.2569 - val_mae: 12.7281 - 207ms/epoch - 8ms/step\n",
      "Epoch 54/100\n",
      "25/25 - 0s - loss: 15.3362 - mae: 3.0362 - val_loss: 241.9665 - val_mae: 12.7740 - 190ms/epoch - 8ms/step\n",
      "Epoch 55/100\n",
      "25/25 - 0s - loss: 18.5790 - mae: 3.2828 - val_loss: 271.0423 - val_mae: 13.5370 - 172ms/epoch - 7ms/step\n",
      "Epoch 56/100\n",
      "25/25 - 0s - loss: 20.4329 - mae: 3.5395 - val_loss: 257.4150 - val_mae: 13.1901 - 166ms/epoch - 7ms/step\n",
      "Epoch 57/100\n",
      "25/25 - 0s - loss: 25.0544 - mae: 3.7176 - val_loss: 264.7652 - val_mae: 13.5723 - 165ms/epoch - 7ms/step\n",
      "Epoch 58/100\n",
      "25/25 - 0s - loss: 19.6256 - mae: 3.3912 - val_loss: 258.7778 - val_mae: 13.3364 - 162ms/epoch - 6ms/step\n",
      "Epoch 59/100\n",
      "25/25 - 0s - loss: 19.7427 - mae: 3.4226 - val_loss: 239.1332 - val_mae: 12.8034 - 188ms/epoch - 8ms/step\n",
      "Epoch 60/100\n",
      "25/25 - 0s - loss: 15.9851 - mae: 3.1811 - val_loss: 232.8230 - val_mae: 12.6960 - 191ms/epoch - 8ms/step\n",
      "Epoch 61/100\n",
      "25/25 - 0s - loss: 19.4396 - mae: 3.4057 - val_loss: 231.7839 - val_mae: 12.5348 - 203ms/epoch - 8ms/step\n",
      "Epoch 62/100\n",
      "25/25 - 0s - loss: 16.5109 - mae: 3.0190 - val_loss: 236.0924 - val_mae: 12.6779 - 196ms/epoch - 8ms/step\n",
      "Epoch 63/100\n",
      "25/25 - 0s - loss: 17.0396 - mae: 3.1212 - val_loss: 271.2117 - val_mae: 13.6651 - 190ms/epoch - 8ms/step\n",
      "Epoch 64/100\n",
      "25/25 - 0s - loss: 21.6508 - mae: 3.5559 - val_loss: 264.3236 - val_mae: 13.5255 - 172ms/epoch - 7ms/step\n",
      "Epoch 65/100\n",
      "25/25 - 0s - loss: 20.5929 - mae: 3.4474 - val_loss: 249.3979 - val_mae: 13.0346 - 204ms/epoch - 8ms/step\n",
      "Epoch 66/100\n",
      "25/25 - 0s - loss: 25.9353 - mae: 3.7947 - val_loss: 234.3384 - val_mae: 12.5582 - 191ms/epoch - 8ms/step\n",
      "Epoch 67/100\n",
      "25/25 - 0s - loss: 17.3104 - mae: 3.1877 - val_loss: 242.8288 - val_mae: 12.8508 - 201ms/epoch - 8ms/step\n",
      "Epoch 68/100\n",
      "25/25 - 0s - loss: 14.9087 - mae: 2.9808 - val_loss: 253.6467 - val_mae: 13.0413 - 170ms/epoch - 7ms/step\n",
      "Epoch 69/100\n",
      "25/25 - 0s - loss: 16.8029 - mae: 3.1611 - val_loss: 231.9980 - val_mae: 12.4833 - 190ms/epoch - 8ms/step\n",
      "Epoch 70/100\n",
      "25/25 - 0s - loss: 14.9463 - mae: 3.0000 - val_loss: 236.3969 - val_mae: 12.7151 - 182ms/epoch - 7ms/step\n",
      "Epoch 71/100\n",
      "25/25 - 0s - loss: 16.4336 - mae: 3.0291 - val_loss: 253.1390 - val_mae: 13.1378 - 170ms/epoch - 7ms/step\n",
      "Epoch 72/100\n",
      "25/25 - 0s - loss: 16.1729 - mae: 2.9968 - val_loss: 246.6764 - val_mae: 12.9740 - 171ms/epoch - 7ms/step\n",
      "Epoch 73/100\n",
      "25/25 - 0s - loss: 17.3743 - mae: 3.0949 - val_loss: 288.0028 - val_mae: 13.9938 - 177ms/epoch - 7ms/step\n",
      "Epoch 74/100\n",
      "25/25 - 0s - loss: 14.0787 - mae: 2.8040 - val_loss: 245.1064 - val_mae: 12.7875 - 171ms/epoch - 7ms/step\n",
      "Epoch 75/100\n",
      "25/25 - 0s - loss: 15.0781 - mae: 2.9188 - val_loss: 246.7469 - val_mae: 12.8715 - 178ms/epoch - 7ms/step\n",
      "Epoch 76/100\n",
      "25/25 - 0s - loss: 15.6873 - mae: 3.0587 - val_loss: 261.2481 - val_mae: 13.1879 - 216ms/epoch - 9ms/step\n",
      "Epoch 77/100\n",
      "25/25 - 0s - loss: 15.7216 - mae: 2.9989 - val_loss: 225.1090 - val_mae: 12.5727 - 191ms/epoch - 8ms/step\n",
      "Epoch 78/100\n",
      "25/25 - 0s - loss: 14.1386 - mae: 2.7955 - val_loss: 255.9334 - val_mae: 13.1334 - 182ms/epoch - 7ms/step\n",
      "Epoch 79/100\n",
      "25/25 - 0s - loss: 17.9204 - mae: 3.3625 - val_loss: 293.7097 - val_mae: 14.0267 - 184ms/epoch - 7ms/step\n",
      "Epoch 80/100\n",
      "25/25 - 0s - loss: 24.1573 - mae: 3.8031 - val_loss: 269.1126 - val_mae: 13.5501 - 182ms/epoch - 7ms/step\n",
      "Epoch 81/100\n",
      "25/25 - 0s - loss: 22.0743 - mae: 3.6430 - val_loss: 300.0788 - val_mae: 14.3065 - 178ms/epoch - 7ms/step\n",
      "Epoch 82/100\n",
      "25/25 - 0s - loss: 20.3601 - mae: 3.5057 - val_loss: 236.7660 - val_mae: 12.6652 - 175ms/epoch - 7ms/step\n",
      "Epoch 83/100\n",
      "25/25 - 0s - loss: 14.0512 - mae: 2.8095 - val_loss: 235.0611 - val_mae: 12.8447 - 178ms/epoch - 7ms/step\n",
      "Epoch 84/100\n",
      "25/25 - 0s - loss: 15.0123 - mae: 3.0024 - val_loss: 256.3028 - val_mae: 13.1575 - 179ms/epoch - 7ms/step\n",
      "Epoch 85/100\n",
      "25/25 - 0s - loss: 13.2129 - mae: 2.7734 - val_loss: 242.9336 - val_mae: 12.8414 - 167ms/epoch - 7ms/step\n",
      "Epoch 86/100\n",
      "25/25 - 0s - loss: 22.1232 - mae: 3.6038 - val_loss: 329.5792 - val_mae: 14.8980 - 165ms/epoch - 7ms/step\n",
      "Epoch 87/100\n",
      "25/25 - 0s - loss: 26.3279 - mae: 4.0332 - val_loss: 257.3958 - val_mae: 13.1656 - 175ms/epoch - 7ms/step\n",
      "Epoch 88/100\n",
      "25/25 - 0s - loss: 16.8017 - mae: 3.1032 - val_loss: 257.6878 - val_mae: 13.1711 - 185ms/epoch - 7ms/step\n",
      "Epoch 89/100\n",
      "25/25 - 0s - loss: 16.3656 - mae: 3.1819 - val_loss: 287.2417 - val_mae: 13.8313 - 195ms/epoch - 8ms/step\n",
      "Epoch 90/100\n",
      "25/25 - 0s - loss: 18.7555 - mae: 3.3399 - val_loss: 265.2031 - val_mae: 13.1605 - 177ms/epoch - 7ms/step\n",
      "Epoch 91/100\n",
      "25/25 - 0s - loss: 18.6707 - mae: 3.3818 - val_loss: 282.2312 - val_mae: 13.7072 - 166ms/epoch - 7ms/step\n",
      "Epoch 92/100\n",
      "25/25 - 0s - loss: 17.1349 - mae: 3.2148 - val_loss: 242.6965 - val_mae: 12.7229 - 171ms/epoch - 7ms/step\n",
      "Epoch 93/100\n",
      "25/25 - 0s - loss: 16.6054 - mae: 3.1424 - val_loss: 284.5402 - val_mae: 13.8043 - 175ms/epoch - 7ms/step\n",
      "Epoch 94/100\n",
      "25/25 - 0s - loss: 17.4440 - mae: 3.1299 - val_loss: 280.2915 - val_mae: 13.7711 - 184ms/epoch - 7ms/step\n",
      "Epoch 95/100\n",
      "25/25 - 0s - loss: 15.5830 - mae: 2.9689 - val_loss: 266.0347 - val_mae: 13.3323 - 169ms/epoch - 7ms/step\n",
      "Epoch 96/100\n",
      "25/25 - 0s - loss: 19.9431 - mae: 3.3629 - val_loss: 301.7967 - val_mae: 14.1627 - 190ms/epoch - 8ms/step\n",
      "Epoch 97/100\n",
      "25/25 - 0s - loss: 22.4860 - mae: 3.5800 - val_loss: 328.5527 - val_mae: 14.6124 - 196ms/epoch - 8ms/step\n",
      "Epoch 98/100\n",
      "25/25 - 0s - loss: 25.3152 - mae: 3.7985 - val_loss: 280.1143 - val_mae: 13.6903 - 193ms/epoch - 8ms/step\n",
      "Epoch 99/100\n",
      "25/25 - 0s - loss: 14.5236 - mae: 2.8889 - val_loss: 243.4969 - val_mae: 12.8031 - 186ms/epoch - 7ms/step\n",
      "Epoch 100/100\n",
      "25/25 - 0s - loss: 19.7397 - mae: 3.3290 - val_loss: 263.6830 - val_mae: 13.2252 - 192ms/epoch - 8ms/step\n"
     ]
    }
   ],
   "source": [
    "# Cell 15: Train the model\n",
    "history = model.fit(\n",
    "    {\"tab_input\": X_tab_train, \"img_input\": X_img_train},\n",
    "    y_train,\n",
    "    validation_split=0.1,\n",
    "    epochs=100,\n",
    "    batch_size=BATCH_SIZE,\n",
    "    verbose=2\n",
    ")\n"
   ]
  },
  {
   "cell_type": "code",
   "execution_count": 118,
   "id": "eab45c7c-b067-41f6-9ee7-fd21fd6aed15",
   "metadata": {},
   "outputs": [
    {
     "data": {
      "image/png": "[encoded data removed]",
      "text/plain": [
       "<Figure size 1000x400 with 2 Axes>"
      ]
     },
     "metadata": {},
     "output_type": "display_data"
    }
   ],
   "source": [
    "# Cell 16: Plot training curves\n",
    "plt.figure(figsize=(10,4))\n",
    "plt.subplot(1,2,1)\n",
    "plt.plot(history.history[\"loss\"], label=\"train_loss\")\n",
    "plt.plot(history.history[\"val_loss\"], label=\"val_loss\")\n",
    "plt.legend(); plt.title(\"MSE Loss\")\n",
    "\n",
    "plt.subplot(1,2,2)\n",
    "plt.plot(history.history[\"mae\"], label=\"train_mae\")\n",
    "plt.plot(history.history[\"val_mae\"], label=\"val_mae\")\n",
    "plt.legend(); plt.title(\"MAE\")\n",
    "plt.show()\n"
   ]
  },
  {
   "cell_type": "code",
   "execution_count": 120,
   "id": "e8eb9255-0379-475a-8f15-9bb590e34860",
   "metadata": {},
   "outputs": [
    {
     "name": "stdout",
     "output_type": "stream",
     "text": [
      "4/4 [==============================] - 0s 5ms/step\n",
      "Test MAE: 13.6214\n",
      "Test RMSE: 17.2878\n"
     ]
    },
    {
     "name": "stderr",
     "output_type": "stream",
     "text": [
      "C:\\Users\\zainu\\anaconda3\\envs\\intel_gpu\\lib\\site-packages\\sklearn\\metrics\\_regression.py:492: FutureWarning: 'squared' is deprecated in version 1.4 and will be removed in 1.6. To calculate the root mean squared error, use the function'root_mean_squared_error'.\n",
      "  warnings.warn(\n"
     ]
    }
   ],
   "source": [
    "# Cell 17: Evaluate on test set (MAE, RMSE)\n",
    "y_pred = model.predict({\"tab_input\": X_tab_test, \"img_input\": X_img_test}).squeeze()\n",
    "mae = mean_absolute_error(y_test, y_pred)\n",
    "rmse = mean_squared_error(y_test, y_pred, squared=False)\n",
    "print(f\"Test MAE: {mae:.4f}\")\n",
    "print(f\"Test RMSE: {rmse:.4f}\")\n"
   ]
  },
  {
   "cell_type": "code",
   "execution_count": 122,
   "id": "84f8f73c-26ba-4f38-872b-8f738cff539e",
   "metadata": {},
   "outputs": [
    {
     "name": "stdout",
     "output_type": "stream",
     "text": [
      "True: 40.60 | Pred: 47.52\n",
      "True: 66.50 | Pred: 48.75\n",
      "True: 37.10 | Pred: 29.13\n",
      "True: 64.40 | Pred: 33.29\n",
      "True: 28.00 | Pred: 11.45\n",
      "True: 49.00 | Pred: 27.98\n",
      "True: 52.50 | Pred: 42.26\n",
      "True: 45.43 | Pred: 68.05\n",
      "True: 24.50 | Pred: 34.57\n",
      "True: 33.53 | Pred: 28.15\n"
     ]
    }
   ],
   "source": [
    "# Cell 18: Compare few example predictions\n",
    "for i in range(min(10, len(y_test))):\n",
    "    print(f\"True: {y_test[i]:.2f} | Pred: {y_pred[i]:.2f}\")\n"
   ]
  },
  {
   "cell_type": "code",
   "execution_count": 124,
   "id": "148d976c-b707-4a94-9d24-211f4dbcc1a5",
   "metadata": {},
   "outputs": [
    {
     "name": "stdout",
     "output_type": "stream",
     "text": [
      "INFO:tensorflow:Assets written to: multimodal_price_model_tf\\assets\n",
      "Saved model and preprocessors.\n"
     ]
    }
   ],
   "source": [
    "# Cell 19: Save model & preprocessors\n",
    "model.save(\"multimodal_price_model_tf\")\n",
    "joblib.dump(scaler, \"tabular_scaler.joblib\")\n",
    "if 'ohe' in globals():\n",
    "    joblib.dump(ohe, \"tabular_ohe.joblib\")\n",
    "print(\"Saved model and preprocessors.\")\n"
   ]
  },
  {
   "cell_type": "code",
   "execution_count": null,
   "id": "4f7b4f99-2962-4f44-8633-578ebe007567",
   "metadata": {},
   "outputs": [],
   "source": []
  }
 ],
 "metadata": {
  "kernelspec": {
   "display_name": "Python (intel_gpu)",
   "language": "python",
   "name": "intel_gpu"
  },
  "language_info": {
   "codemirror_mode": {
    "name": "ipython",
    "version": 3
   },
   "file_extension": ".py",
   "mimetype": "text/x-python",
   "name": "python",
   "nbconvert_exporter": "python",
   "pygments_lexer": "ipython3",
   "version": "3.9.21"
  }
 },
 "nbformat": 4,
 "nbformat_minor": 5
}
